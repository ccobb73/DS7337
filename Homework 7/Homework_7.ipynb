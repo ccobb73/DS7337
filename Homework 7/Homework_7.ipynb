{
 "cells": [
  {
   "cell_type": "markdown",
   "metadata": {
    "colab_type": "text",
    "id": "1PMUc16oX90W"
   },
   "source": [
    "Homework 7\n",
    "\n",
    "Imagine you are an Engineer for Amazon Alexa.  You are given the task of understanding text input and classifying it.  Create a data set of sayings that fall into 2 Categories: Getting Directions and Playing Music.  Make sure you data set has at least 100 examples total.\n",
    "\n",
    "Example Playing Music:\n",
    "\"Play some Pantera on Spotify\"\n",
    "\n",
    "Example Directions:\n",
    "\"Where is the nearest Starbucks\""
   ]
  },
  {
   "cell_type": "code",
   "execution_count": 0,
   "metadata": {
    "colab": {},
    "colab_type": "code",
    "id": "rZpe6PPqX90b"
   },
   "outputs": [],
   "source": [
    "music =[\n",
    "    \"play rock music on pandora\",\n",
    "    \"play, beatles\",\n",
    "    \"play 60s music\",\n",
    "    \"play relaxing music\",\n",
    "    \"play holiday music on all devices\",\n",
    "    \"play my playlist on Spotify\",\n",
    "    \"play z100 on iHeartRadio\",\n",
    "    \"play classic rock hits on TuneIn\",\n",
    "    \"play some music\"\n",
    "    \"play folk music in Amazon at volume 6\",\n",
    "    \"play jazz music for working\",\n",
    "    \"play firework by Ketty Perry\",\n",
    "    \"play Star 102 from iHeart Radio\",\n",
    "    \"play next music\",\n",
    "    \"play previous music\",\n",
    "    \"play Wonderland station from SiriusXM\",\n",
    "    \"play some Prime Music\",\n",
    "    \"play my dinner party playlist\",\n",
    "    \"play the album abbey road from the Beatles on Spotify\",\n",
    "    \"play My Radio\",\n",
    "    \"play wonderwall from Oasis on repeat\",\n",
    "    \"play Adele station on pandora\",\n",
    "    \"play Today’s Hits on Spotify\",\n",
    "    \"play the United States national anthem\",\n",
    "    \"play In The End by Linkin Park\",\n",
    "    \"play some dance music in the Living Room\",\n",
    "    \"play my parents playlist\",\n",
    "    \"play my brothers playlist on pandora\",\n",
    "    \"play Christmas carols\",\n",
    "    \"play Frank Sinatra\",\n",
    "    \"play the last song I was listening to\",\n",
    "    \"play the Mellow '70s Gold playlist from Amazon Music\",\n",
    "    \"play sounds of the jungle\",\n",
    "    \"play music for reading\",\n",
    "    \"play something i havent heard in a while\",\n",
    "    \"play outlaw country on pandora\",\n",
    "    \"play that song again\",\n",
    "    \"play some songs for sleeping\",\n",
    "    \"play the song of the day\",\n",
    "    \"play the song that goes: Head out on the highway\",\n",
    "    \"play music for taking a bath\",\n",
    "    \"play music to cheer me up\",\n",
    "    \"play the latest Linkin Park album\",\n",
    "    \"stop playing in 30 minutes\",\n",
    "    \"play my Miles Davis station\",\n",
    "    \"play the new Bruno Mars song\",\n",
    "    \"play star 101.3 on iHeartRadio\",\n",
    "    \"play music for a road trip\",\n",
    "    \"play a song from my Apple Music playlist\",\n",
    "    \"play me something relaxing\",\n",
    "    \"play stressed out by twenty one pilots\"\n",
    "]"
   ]
  },
  {
   "cell_type": "code",
   "execution_count": 0,
   "metadata": {
    "colab": {},
    "colab_type": "code",
    "id": "-9JymMiyX90t"
   },
   "outputs": [],
   "source": [
    "directions =[\n",
    "    \"Where is the nearest mcdonalds\",\n",
    "    \"how do i get to starbucks\",\n",
    "    \"how far a drive to orlando\"\n",
    "    \"where is the nearest gas station\",\n",
    "    \"how do you get to maple drive\",\n",
    "    \"what are the directions to the airport\",\n",
    "    \"how do i get the train station\",\n",
    "    \"how do i get the gym\",\n",
    "    \"where is oak forest neighborhood\",\n",
    "    \"where is dairy queen is the closest\",\n",
    "    \"which way to the cocoa beach\",\n",
    "    \"how do i get to the nearest mexican food\",\n",
    "    \"how do i get to my gym with a bicycle\",\n",
    "    \"are their any veteranarians nearby\",\n",
    "    \"which way to the hospital\",\n",
    "    \"where is the closest park\",\n",
    "    \"how do i get to the grocery store\",\n",
    "    \"how far is the drive to doctor\",\n",
    "    \"where is the best rated mexican restaurant\",\n",
    "    \"how far to disney by amtrak train\",\n",
    "    \"where is the nearest burger king\",\n",
    "    \"which cvs store is the closest\",\n",
    "    \"which way to the best buy\",\n",
    "    \"how far is the walking trail\",\n",
    "    \"where is the closest doctors within 5 miles\",\n",
    "    \"find the closest movie theater\",\n",
    "    \"which way to the top rated thai restaurant\",\n",
    "    \"which way is the zoo\",\n",
    "    \"how to get to downtown\",\n",
    "    \"how far to drive to the dentist\",\n",
    "    \"where is the best rated school closest to me\",\n",
    "    \"What are the directions to the mall\",\n",
    "    \"What is the way home\",\n",
    "    \"Get me directions to the gas station\",\n",
    "    \"where is the nearest gas station\",\n",
    "    \"how far to the park\",\n",
    "    \"what is the closest restaurant\",\n",
    "    \"where is the closest pharmacy\",\n",
    "    \"which way to the stadium\",\n",
    "    \"where is the nearest home depot \",\n",
    "    \"how far to work\",\n",
    "    \"where is the closest library located\",\n",
    "    \"how do i get to the library\",\n",
    "    \"how far a drive to miami\",\n",
    "    \"where is the nearest starbucks\",\n",
    "    \"which mcondalds is the nearest\",\n",
    "    \"which is closer mcdonalds or burger king\",\n",
    "    \"which way to the lake\",\n",
    "    \"how to get to airport\",\n",
    "    \"where is closest bus station\",\n",
    "    \"how do it get to the bus station\"\n",
    "]\n",
    "\n"
   ]
  },
  {
   "cell_type": "code",
   "execution_count": 4,
   "metadata": {
    "colab": {
     "base_uri": "https://localhost:8080/",
     "height": 35
    },
    "colab_type": "code",
    "id": "TlY47IKrX91B",
    "outputId": "5d0cea23-0a2f-4c31-ea79-18397c1b97e2"
   },
   "outputs": [
    {
     "name": "stdout",
     "output_type": "stream",
     "text": [
      "Length of Music is 50, Length of Directions is 50\n"
     ]
    }
   ],
   "source": [
    "print(f'Length of Music is {len(music)}, Length of Directions is {len(directions)}')"
   ]
  },
  {
   "cell_type": "markdown",
   "metadata": {
    "colab_type": "text",
    "id": "Y63XLjaAX91T"
   },
   "source": [
    "Q1 Given the following module that outputs a vector which represents your input sentence, transform your data into numbers."
   ]
  },
  {
   "cell_type": "code",
   "execution_count": 5,
   "metadata": {
    "colab": {
     "base_uri": "https://localhost:8080/",
     "height": 274
    },
    "colab_type": "code",
    "id": "64EptEB7X91U",
    "outputId": "3c63120d-be5e-4ba9-e38d-e2ec985f900a"
   },
   "outputs": [
    {
     "name": "stdout",
     "output_type": "stream",
     "text": [
      "tf.Tensor(\n",
      "[[ 0.01492012  0.02582433  0.08476008 ... -0.01204567 -0.01502339\n",
      "  -0.02175183]\n",
      " [-0.00135757  0.0017423   0.08162555 ... -0.00012654 -0.00583726\n",
      "   0.03420949]\n",
      " [ 0.01468289  0.02749554  0.08986668 ... -0.04574937 -0.03441996\n",
      "   0.07641818]\n",
      " ...\n",
      " [-0.00100115  0.00360921  0.08328559 ...  0.01046749 -0.06933691\n",
      "   0.0568288 ]\n",
      " [-0.03438263 -0.02549896  0.09147818 ... -0.01722317  0.02044252\n",
      "  -0.00858754]\n",
      " [ 0.00650887  0.02147421  0.09309313 ... -0.00640677 -0.0690588\n",
      "   0.04912144]], shape=(50, 512), dtype=float32)\n"
     ]
    }
   ],
   "source": [
    "import tensorflow as tf\n",
    "import tensorflow_hub as hub\n",
    "\n",
    "embed = hub.load(\"https://tfhub.dev/google/universal-sentence-encoder/3\")\n",
    "musicEmbeddings = embed(music)[\"outputs\"]\n",
    "directionEmbeddings = embed(directions)[\"outputs\"]\n",
    "\n",
    "print(musicEmbeddings)"
   ]
  },
  {
   "cell_type": "code",
   "execution_count": 6,
   "metadata": {
    "colab": {
     "base_uri": "https://localhost:8080/",
     "height": 35
    },
    "colab_type": "code",
    "id": "CDJo3a7bX91l",
    "outputId": "51297448-8a92-4a7e-bb78-da2c59a33cad"
   },
   "outputs": [
    {
     "data": {
      "text/plain": [
       "TensorShape([50, 512])"
      ]
     },
     "execution_count": 6,
     "metadata": {
      "tags": []
     },
     "output_type": "execute_result"
    }
   ],
   "source": [
    "musicEmbeddings.shape"
   ]
  },
  {
   "cell_type": "markdown",
   "metadata": {
    "colab_type": "text",
    "id": "2cIpu_IqX91x"
   },
   "source": [
    "Q2: Take your numbers from Q1 and create 2 classifiers of any type.  What is your best guess for the accuracy of your models. (Don't forget to use good data science practices!)"
   ]
  },
  {
   "cell_type": "code",
   "execution_count": 0,
   "metadata": {
    "colab": {},
    "colab_type": "code",
    "id": "Cj-lZmZzX91z"
   },
   "outputs": [],
   "source": [
    "import numpy as np\n",
    "from sklearn.model_selection import cross_val_score\n",
    "from sklearn.model_selection import cross_val_predict\n",
    "from sklearn.linear_model import LogisticRegression\n",
    "from sklearn.preprocessing import StandardScaler\n",
    "from sklearn.metrics import confusion_matrix\n",
    "from sklearn.ensemble import RandomForestClassifier"
   ]
  },
  {
   "cell_type": "code",
   "execution_count": 0,
   "metadata": {
    "colab": {},
    "colab_type": "code",
    "id": "63FVksPsLziF"
   },
   "outputs": [],
   "source": [
    "music_array = np.array(musicEmbeddings)\n",
    "direction_array = np.array(directionEmbeddings)"
   ]
  },
  {
   "cell_type": "code",
   "execution_count": 0,
   "metadata": {
    "colab": {},
    "colab_type": "code",
    "id": "I_iRuiU8MAMp"
   },
   "outputs": [],
   "source": [
    "import pandas as pd\n",
    "\n",
    "musicDF = pd.DataFrame(music_array)\n",
    "directionDF = pd.DataFrame(direction_array)"
   ]
  },
  {
   "cell_type": "code",
   "execution_count": 0,
   "metadata": {
    "colab": {},
    "colab_type": "code",
    "id": "k-inp_VwQzna"
   },
   "outputs": [],
   "source": [
    "#Labels 1 for music and 0 for directions\n",
    "musicDF.insert(512, \"Class\", 1)\n",
    "directionDF.insert(512, \"Class\", 0)"
   ]
  },
  {
   "cell_type": "code",
   "execution_count": 0,
   "metadata": {
    "colab": {},
    "colab_type": "code",
    "id": "MnbyWFsQRrqA"
   },
   "outputs": [],
   "source": [
    "final_data = pd.concat([musicDF, directionDF], ignore_index= True)"
   ]
  },
  {
   "cell_type": "code",
   "execution_count": 0,
   "metadata": {
    "colab": {},
    "colab_type": "code",
    "id": "WpgHVpJrZP0b"
   },
   "outputs": [],
   "source": [
    "# Set variables for X and y\n",
    "X = final_data.drop('Class', axis=1)\n",
    "y = final_data['Class']"
   ]
  },
  {
   "cell_type": "code",
   "execution_count": 0,
   "metadata": {
    "colab": {},
    "colab_type": "code",
    "id": "sJ9OdFMOZb0S"
   },
   "outputs": [],
   "source": [
    "# Define train test splits \n",
    "from sklearn.model_selection import train_test_split\n",
    "X_train, X_test, y_train, y_test = train_test_split(X, y, test_size = 0.2)"
   ]
  },
  {
   "cell_type": "code",
   "execution_count": 16,
   "metadata": {
    "colab": {
     "base_uri": "https://localhost:8080/",
     "height": 90
    },
    "colab_type": "code",
    "id": "pGojsp9qZeAU",
    "outputId": "c830ecc7-9ef9-43c1-9d3b-1d38e0eb7773"
   },
   "outputs": [
    {
     "data": {
      "text/plain": [
       "SVC(C=1.0, break_ties=False, cache_size=200, class_weight=None, coef0=0.0,\n",
       "    decision_function_shape='ovr', degree=3, gamma='scale', kernel='linear',\n",
       "    max_iter=-1, probability=False, random_state=None, shrinking=True,\n",
       "    tol=0.001, verbose=False)"
      ]
     },
     "execution_count": 16,
     "metadata": {
      "tags": []
     },
     "output_type": "execute_result"
    }
   ],
   "source": [
    "from sklearn.svm import SVC\n",
    "svc_classifier = SVC(kernel='linear')\n",
    "\n",
    "# Fit the SVM model\n",
    "svc_classifier.fit(X_train, y_train)"
   ]
  },
  {
   "cell_type": "code",
   "execution_count": 0,
   "metadata": {
    "colab": {},
    "colab_type": "code",
    "id": "iHUaGa9GZeSy"
   },
   "outputs": [],
   "source": [
    "# Run the predictions for the SVM\n",
    "y_pred_svc = svc_classifier.predict(X_test)"
   ]
  },
  {
   "cell_type": "code",
   "execution_count": 0,
   "metadata": {
    "colab": {},
    "colab_type": "code",
    "id": "pzXNOJlEZegh"
   },
   "outputs": [],
   "source": [
    "# Import model evaluation packages\n",
    "from sklearn import metrics\n",
    "from sklearn.metrics import classification_report, confusion_matrix"
   ]
  },
  {
   "cell_type": "code",
   "execution_count": 19,
   "metadata": {
    "colab": {
     "base_uri": "https://localhost:8080/",
     "height": 237
    },
    "colab_type": "code",
    "id": "1dhVQ0MXZscr",
    "outputId": "faad5574-54d0-4ade-86a2-6692df4b4c83"
   },
   "outputs": [
    {
     "name": "stdout",
     "output_type": "stream",
     "text": [
      "The accuracy of the SVM model is: 1.0\n",
      "[[13  0]\n",
      " [ 0  7]]\n",
      "              precision    recall  f1-score   support\n",
      "\n",
      "           0       1.00      1.00      1.00        13\n",
      "           1       1.00      1.00      1.00         7\n",
      "\n",
      "    accuracy                           1.00        20\n",
      "   macro avg       1.00      1.00      1.00        20\n",
      "weighted avg       1.00      1.00      1.00        20\n",
      "\n"
     ]
    }
   ],
   "source": [
    "# Print results for the SVM\n",
    "print(\"The accuracy of the SVM model is:\",metrics.accuracy_score(y_test, y_pred_svc))\n",
    "print(confusion_matrix(y_test,y_pred_svc))\n",
    "print(classification_report(y_test,y_pred_svc))"
   ]
  },
  {
   "cell_type": "code",
   "execution_count": 20,
   "metadata": {
    "colab": {
     "base_uri": "https://localhost:8080/",
     "height": 164
    },
    "colab_type": "code",
    "id": "nVk9uTiaZ3wb",
    "outputId": "d1a5886a-77ab-445d-b2d8-deb2d7087383"
   },
   "outputs": [
    {
     "data": {
      "text/plain": [
       "RandomForestClassifier(bootstrap=True, ccp_alpha=0.0, class_weight=None,\n",
       "                       criterion='gini', max_depth=None, max_features='auto',\n",
       "                       max_leaf_nodes=None, max_samples=None,\n",
       "                       min_impurity_decrease=0.0, min_impurity_split=None,\n",
       "                       min_samples_leaf=1, min_samples_split=2,\n",
       "                       min_weight_fraction_leaf=0.0, n_estimators=100,\n",
       "                       n_jobs=None, oob_score=False, random_state=None,\n",
       "                       verbose=0, warm_start=False)"
      ]
     },
     "execution_count": 20,
     "metadata": {
      "tags": []
     },
     "output_type": "execute_result"
    }
   ],
   "source": [
    "# Import the random forest model\n",
    "from sklearn.ensemble import RandomForestClassifier\n",
    "\n",
    "random_forest_classifier = RandomForestClassifier(n_estimators=100)\n",
    "# Train the model \n",
    "random_forest_classifier.fit(X_train,y_train)"
   ]
  },
  {
   "cell_type": "code",
   "execution_count": 0,
   "metadata": {
    "colab": {},
    "colab_type": "code",
    "id": "ktDPsCsdZ4E7"
   },
   "outputs": [],
   "source": [
    "y_pred_rf = random_forest_classifier.predict(X_test)"
   ]
  },
  {
   "cell_type": "code",
   "execution_count": 22,
   "metadata": {
    "colab": {
     "base_uri": "https://localhost:8080/",
     "height": 237
    },
    "colab_type": "code",
    "id": "FPZ270l-Z4bF",
    "outputId": "1f501461-48a0-4a07-d904-19c557c27deb"
   },
   "outputs": [
    {
     "name": "stdout",
     "output_type": "stream",
     "text": [
      "The accuracy of the random forest model is: 1.0\n",
      "[[13  0]\n",
      " [ 0  7]]\n",
      "              precision    recall  f1-score   support\n",
      "\n",
      "           0       1.00      1.00      1.00        13\n",
      "           1       1.00      1.00      1.00         7\n",
      "\n",
      "    accuracy                           1.00        20\n",
      "   macro avg       1.00      1.00      1.00        20\n",
      "weighted avg       1.00      1.00      1.00        20\n",
      "\n"
     ]
    }
   ],
   "source": [
    "# Print the results of the random forest model \n",
    "print(\"The accuracy of the random forest model is:\",metrics.accuracy_score(y_test, y_pred_rf))\n",
    "print(confusion_matrix(y_test,y_pred_rf))\n",
    "print(classification_report(y_test,y_pred_rf))"
   ]
  },
  {
   "cell_type": "markdown",
   "metadata": {
    "colab_type": "text",
    "id": "zFDOs9X3n5we"
   },
   "source": [
    "#### Both random forest model and SVM classifier performed at an accuracy of 100%. I think it was easy to classify since play is used all the time in music and never in the directions. "
   ]
  }
 ],
 "metadata": {
  "colab": {
   "name": "HW7.ipynb",
   "provenance": []
  },
  "kernelspec": {
   "display_name": "Python 3",
   "language": "python",
   "name": "python3"
  },
  "language_info": {
   "codemirror_mode": {
    "name": "ipython",
    "version": 3
   },
   "file_extension": ".py",
   "mimetype": "text/x-python",
   "name": "python",
   "nbconvert_exporter": "python",
   "pygments_lexer": "ipython3",
   "version": "3.6.10"
  }
 },
 "nbformat": 4,
 "nbformat_minor": 1
}
