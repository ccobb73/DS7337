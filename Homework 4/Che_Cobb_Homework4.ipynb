{
 "cells": [
  {
   "cell_type": "code",
   "execution_count": 1,
   "metadata": {},
   "outputs": [],
   "source": [
    "import nltk; \n",
    "from nltk.tokenize import word_tokenize\n",
    "from nltk.corpus import wordnet\n",
    "from nltk.corpus import brown\n",
    "from nltk.corpus import treebank\n",
    "from nltk.tag import UnigramTagger"
   ]
  },
  {
   "cell_type": "markdown",
   "metadata": {},
   "source": [
    "## 1.\tRun one of the part-of-speech (POS) taggers available in Python. \n",
    "###### a.\tFind the longest sentence you can, longer than 10 words, that the POS tagger tags correctly. Show the input and output.\n",
    "###### b.\tFind the shortest sentence you can, shorter than 10 words, that the POS tagger fails to tag 100 percent correctly. Show the input and output. Explain your conjecture as to why the tagger might have been less than perfect with this sentence.\n"
   ]
  },
  {
   "cell_type": "code",
   "execution_count": 2,
   "metadata": {},
   "outputs": [
    {
     "name": "stdout",
     "output_type": "stream",
     "text": [
      "Original sentence:\n",
      "['All', 'we', 'have', 'to', 'decide', 'is', 'what', 'to', 'do', 'with', 'the', 'time', 'that', 'is', 'given', 'us', '.']\n",
      "\n",
      "POS tags:\n",
      "[('All', 'DT'), ('we', 'PRP'), ('have', 'VBP'), ('to', 'TO'), ('decide', 'VB'), ('is', 'VBZ'), ('what', 'WP'), ('to', 'TO'), ('do', 'VB'), ('with', 'IN'), ('the', 'DT'), ('time', 'NN'), ('that', 'WDT'), ('is', 'VBZ'), ('given', 'VBN'), ('us', 'PRP'), ('.', '.')]\n"
     ]
    }
   ],
   "source": [
    "text = word_tokenize(\"All we have to decide is what to do with the time that is given us.\")\n",
    "print(\"Original sentence:\")\n",
    "print(text)\n",
    "print()\n",
    "text_POS = nltk.pos_tag(text)\n",
    "print(\"POS tags:\")\n",
    "print(text_POS)"
   ]
  },
  {
   "cell_type": "code",
   "execution_count": 3,
   "metadata": {},
   "outputs": [
    {
     "name": "stdout",
     "output_type": "stream",
     "text": [
      "Original sentence:\n",
      "['She', 'is', 'a', 'history', 'teacher', '.']\n",
      "\n",
      "POS tags:\n",
      "[('She', 'PRP'), ('is', 'VBZ'), ('a', 'DT'), ('history', 'NN'), ('teacher', 'NN'), ('.', '.')]\n"
     ]
    }
   ],
   "source": [
    "# Short-sentence tagging\n",
    "text = word_tokenize(\"She is a history teacher.\")\n",
    "print(\"Original sentence:\")\n",
    "print(text)\n",
    "print()\n",
    "text_POS = nltk.pos_tag(text)\n",
    "print(\"POS tags:\")\n",
    "print(text_POS)"
   ]
  },
  {
   "cell_type": "markdown",
   "metadata": {},
   "source": [
    "#### The POS tagger was unable to reconize the word \"history\" as a adjective since it was acting as an adjective for teacher"
   ]
  },
  {
   "cell_type": "markdown",
   "metadata": {},
   "source": [
    "## 2.\tRun a different POS tagger in Python. Process the same two sentences from question 1.\n",
    "##### a.\tDoes it produce the same or different output?\n",
    "##### b.\tExplain any differences as best you can.\n"
   ]
  },
  {
   "cell_type": "code",
   "execution_count": 4,
   "metadata": {},
   "outputs": [],
   "source": [
    "# Build training set\n",
    "train_data = (treebank.tagged_sents()[:3500])\n",
    "test_data = (treebank.tagged_sents()[3500:])"
   ]
  },
  {
   "cell_type": "code",
   "execution_count": 5,
   "metadata": {},
   "outputs": [
    {
     "name": "stdout",
     "output_type": "stream",
     "text": [
      "Original sentence Tagging:\n",
      "[('All', 'DT'), ('we', 'PRP'), ('have', 'VBP'), ('to', 'TO'), ('decide', 'VB'), ('is', 'VBZ'), ('what', 'WP'), ('to', 'TO'), ('do', 'VB'), ('with', 'IN'), ('the', 'DT'), ('time', 'NN'), ('that', 'WDT'), ('is', 'VBZ'), ('given', 'VBN'), ('us', 'PRP'), ('.', '.')]\n",
      "\n",
      "Performance of Unigram tagger:\n",
      "[('All', 'DT'), ('we', 'PRP'), ('have', 'VBP'), ('to', 'TO'), ('decide', 'VB'), ('is', 'VBZ'), ('what', 'WP'), ('to', 'TO'), ('do', 'VBP'), ('with', 'IN'), ('the', 'DT'), ('time', 'NN'), ('that', 'IN'), ('is', 'VBZ'), ('given', 'VBN'), ('us', 'PRP'), ('.', '.')]\n"
     ]
    }
   ],
   "source": [
    "# Long sentence\n",
    "text = word_tokenize(\"All we have to decide is what to do with the time that is given us.\")\n",
    "print(\"Original sentence Tagging:\")\n",
    "print(nltk.pos_tag(text))\n",
    "print()\n",
    "\n",
    "# Unigram Tag\n",
    "ut = UnigramTagger(train_data)\n",
    "print(\"Performance of Unigram tagger:\")\n",
    "print(ut.tag(text))"
   ]
  },
  {
   "cell_type": "code",
   "execution_count": 6,
   "metadata": {},
   "outputs": [
    {
     "name": "stdout",
     "output_type": "stream",
     "text": [
      "Original sentence Tagging:\n",
      "[('She', 'PRP'), ('is', 'VBZ'), ('a', 'DT'), ('history', 'NN'), ('teacher', 'NN'), ('.', '.')]\n",
      "\n",
      "Performance of Unigram tagger:\n",
      "[('She', 'PRP'), ('is', 'VBZ'), ('a', 'DT'), ('history', 'NN'), ('teacher', 'NN'), ('.', '.')]\n"
     ]
    }
   ],
   "source": [
    "# Short sentence\n",
    "text = word_tokenize(\"She is a history teacher.\")\n",
    "print(\"Original sentence Tagging:\")\n",
    "print(nltk.pos_tag(text))\n",
    "print()\n",
    "\n",
    "# Unigram Tag\n",
    "ut = UnigramTagger(train_data)\n",
    "print(\"Performance of Unigram tagger:\")\n",
    "print(ut.tag(text))"
   ]
  },
  {
   "cell_type": "markdown",
   "metadata": {},
   "source": [
    "##### The Short sentence still shows a noun for history regardless of what tagger I use, so maybe it is a noun?"
   ]
  },
  {
   "cell_type": "markdown",
   "metadata": {},
   "source": [
    "## 3.\tIn a news article from this week’s news, find a random sentence of at least 10 words."
   ]
  },
  {
   "cell_type": "markdown",
   "metadata": {},
   "source": [
    "#### a.\tLooking at the Penn tag set, manually POS tag the sentence yourself."
   ]
  },
  {
   "cell_type": "markdown",
   "metadata": {},
   "source": [
    "###### Biden--NNP, is--VBZ, not--RB the--DT, only--JJ, candidate--NN, banking--NN, on--IN, a--DT, strong--JJ, finish--NN, in--IN, South--NNP, Carolina--NNP"
   ]
  },
  {
   "cell_type": "markdown",
   "metadata": {},
   "source": [
    "#### b.\tNow run the same sentences through both taggers that you implemented for questions 1 and 2. Did either of the taggers produce the same results as you had created manually?"
   ]
  },
  {
   "cell_type": "code",
   "execution_count": 7,
   "metadata": {},
   "outputs": [
    {
     "name": "stdout",
     "output_type": "stream",
     "text": [
      "Original sentence:\n",
      "['Biden', 'is', 'not', 'the', 'only', 'candidate', 'banking', 'on', 'a', 'strong', 'finish', 'in', 'South', 'Carolina', '.']\n",
      "\n",
      "POS tags:\n",
      "[('Biden', 'NNP'), ('is', 'VBZ'), ('not', 'RB'), ('the', 'DT'), ('only', 'JJ'), ('candidate', 'NN'), ('banking', 'NN'), ('on', 'IN'), ('a', 'DT'), ('strong', 'JJ'), ('finish', 'NN'), ('in', 'IN'), ('South', 'NNP'), ('Carolina', 'NNP'), ('.', '.')]\n",
      "\n",
      "Performance of Unigram tagger:\n",
      "[('Biden', None), ('is', 'VBZ'), ('not', 'RB'), ('the', 'DT'), ('only', 'RB'), ('candidate', 'NN'), ('banking', 'NN'), ('on', 'IN'), ('a', 'DT'), ('strong', 'JJ'), ('finish', None), ('in', 'IN'), ('South', 'NNP'), ('Carolina', 'NNP'), ('.', '.')]\n"
     ]
    }
   ],
   "source": [
    "text = word_tokenize(\"Biden is not the only candidate banking on a strong finish in South Carolina.\")\n",
    "print(\"Original sentence:\")\n",
    "print(text)\n",
    "print()\n",
    "text_POS = nltk.pos_tag(text)\n",
    "print(\"POS tags:\")\n",
    "print(text_POS)\n",
    "print()\n",
    "ut = UnigramTagger(train_data)\n",
    "print(\"Performance of Unigram tagger:\")\n",
    "print(ut.tag(text))"
   ]
  },
  {
   "cell_type": "markdown",
   "metadata": {},
   "source": [
    "#### c.\tExplain any differences between the two taggers and your manual tagging as much as you can."
   ]
  },
  {
   "cell_type": "markdown",
   "metadata": {},
   "source": [
    "##### The unigram couldn't see Biden is a noun, everything else was basically the same except for ONLY with the POS tagging it 'JJ' and the unigram tagging 'RB'"
   ]
  },
  {
   "cell_type": "markdown",
   "metadata": {},
   "source": [
    "### 4.\tPrepare the train.txt Dataset for insertion into a RNN.\n",
    "##### a.\tThe data is not in proper format.  Each line lists a word and 4 tags.  Your task is to form the words into sequences and form target sequences as well.\n",
    "         i.\tYour target is the last (fourth) tag.\n",
    "##### b.\tSentences are listed vertically.  A blank line indicates a new sentence.  \n",
    "         i.\tForm the sentences into sequences\n",
    "         ii.\tForm the fourth tag into a sequence of targets.\n",
    "##### c.\tEncode the data to integers.  You will need two dictionaries:\n",
    "         i.\tWord to integer\n",
    "         ii.\tTarget Category to integer\n",
    "##### d.\tYou should turn in the functions and code you use to perform this task—I will use them on a hidden dataset to test your success at encoding.  Padding is required—this data should be ready to put into a neural network.\n"
   ]
  },
  {
   "cell_type": "code",
   "execution_count": 8,
   "metadata": {},
   "outputs": [],
   "source": [
    "import re\n",
    "\n",
    "f = open('train.txt','r')\n",
    "tagged_sentence = []\n",
    "sentence = []\n",
    "\n",
    "for line in f:\n",
    "    if len(line)==0 or line.startswith('-DOCSTART') or line[0]=='\\n':\n",
    "        if len(sentence) >0:\n",
    "            tagged_sentence.append(sentence)\n",
    "            sentence = []\n",
    "        continue\n",
    "    splits = line.split(' ')\n",
    "    splits[-1] = re.sub(r'\\n','',splits[-1])\n",
    "    word = splits[0].lower()\n",
    "    sentence.append([word,splits[-1]])"
   ]
  },
  {
   "cell_type": "code",
   "execution_count": 2,
   "metadata": {},
   "outputs": [
    {
     "data": {
      "text/plain": [
       "[['eu', 'B-ORG'],\n",
       " ['rejects', 'O'],\n",
       " ['german', 'B-MISC'],\n",
       " ['call', 'O'],\n",
       " ['to', 'O'],\n",
       " ['boycott', 'O'],\n",
       " ['british', 'B-MISC'],\n",
       " ['lamb', 'O'],\n",
       " ['.', 'O']]"
      ]
     },
     "execution_count": 2,
     "metadata": {},
     "output_type": "execute_result"
    }
   ],
   "source": [
    "tagged_sentence[0]"
   ]
  },
  {
   "cell_type": "code",
   "execution_count": 3,
   "metadata": {},
   "outputs": [],
   "source": [
    "sentence_list = []\n",
    "tag_list = []\n",
    "\n",
    "for tagged_sentence in tagged_sentence:\n",
    "    sentence, tag_info = zip(*tagged_sentence)\n",
    "    sentence_list.append(list(sentence))\n",
    "    tag_list.append(list(tag_info))"
   ]
  },
  {
   "cell_type": "code",
   "execution_count": 4,
   "metadata": {},
   "outputs": [
    {
     "data": {
      "text/plain": [
       "['eu', 'rejects', 'german', 'call', 'to', 'boycott', 'british', 'lamb', '.']"
      ]
     },
     "execution_count": 4,
     "metadata": {},
     "output_type": "execute_result"
    }
   ],
   "source": [
    "sentence_list[0]"
   ]
  },
  {
   "cell_type": "code",
   "execution_count": 5,
   "metadata": {},
   "outputs": [
    {
     "data": {
      "text/plain": [
       "['B-ORG', 'O', 'B-MISC', 'O', 'O', 'O', 'B-MISC', 'O', 'O']"
      ]
     },
     "execution_count": 5,
     "metadata": {},
     "output_type": "execute_result"
    }
   ],
   "source": [
    "tag_list[0]"
   ]
  },
  {
   "cell_type": "code",
   "execution_count": 6,
   "metadata": {},
   "outputs": [
    {
     "name": "stdout",
     "output_type": "stream",
     "text": [
      "MAX length : 113\n",
      "AVG length : 14.501887\n"
     ]
    },
    {
     "data": {
      "image/png": "[encoded data removed]",
      "text/plain": [
       "<Figure size 432x288 with 1 Axes>"
      ]
     },
     "metadata": {
      "needs_background": "light"
     },
     "output_type": "display_data"
    }
   ],
   "source": [
    "import numpy as np\n",
    "import matplotlib.pyplot as plt\n",
    "\n",
    "print('MAX length : %d' % max(len(l) for l in sentence_list))\n",
    "print('AVG length : %f' % (sum(map(len, sentence_list))/len(sentence_list)))\n",
    "plt.hist([len(s) for s in sentence_list], bins=50)\n",
    "plt.xlabel('Length of samples')\n",
    "plt.ylabel('Number of samples')\n",
    "plt.show()"
   ]
  },
  {
   "cell_type": "code",
   "execution_count": 7,
   "metadata": {},
   "outputs": [
    {
     "name": "stderr",
     "output_type": "stream",
     "text": [
      "C:\\Program Files (x86)\\Microsoft Visual Studio\\Shared\\Anaconda3_64\\lib\\site-packages\\tensorflow\\python\\framework\\dtypes.py:516: FutureWarning: Passing (type, 1) or '1type' as a synonym of type is deprecated; in a future version of numpy, it will be understood as (type, (1,)) / '(1,)type'.\n",
      "  _np_qint8 = np.dtype([(\"qint8\", np.int8, 1)])\n",
      "C:\\Program Files (x86)\\Microsoft Visual Studio\\Shared\\Anaconda3_64\\lib\\site-packages\\tensorflow\\python\\framework\\dtypes.py:517: FutureWarning: Passing (type, 1) or '1type' as a synonym of type is deprecated; in a future version of numpy, it will be understood as (type, (1,)) / '(1,)type'.\n",
      "  _np_quint8 = np.dtype([(\"quint8\", np.uint8, 1)])\n",
      "C:\\Program Files (x86)\\Microsoft Visual Studio\\Shared\\Anaconda3_64\\lib\\site-packages\\tensorflow\\python\\framework\\dtypes.py:518: FutureWarning: Passing (type, 1) or '1type' as a synonym of type is deprecated; in a future version of numpy, it will be understood as (type, (1,)) / '(1,)type'.\n",
      "  _np_qint16 = np.dtype([(\"qint16\", np.int16, 1)])\n",
      "C:\\Program Files (x86)\\Microsoft Visual Studio\\Shared\\Anaconda3_64\\lib\\site-packages\\tensorflow\\python\\framework\\dtypes.py:519: FutureWarning: Passing (type, 1) or '1type' as a synonym of type is deprecated; in a future version of numpy, it will be understood as (type, (1,)) / '(1,)type'.\n",
      "  _np_quint16 = np.dtype([(\"quint16\", np.uint16, 1)])\n",
      "C:\\Program Files (x86)\\Microsoft Visual Studio\\Shared\\Anaconda3_64\\lib\\site-packages\\tensorflow\\python\\framework\\dtypes.py:520: FutureWarning: Passing (type, 1) or '1type' as a synonym of type is deprecated; in a future version of numpy, it will be understood as (type, (1,)) / '(1,)type'.\n",
      "  _np_qint32 = np.dtype([(\"qint32\", np.int32, 1)])\n",
      "C:\\Program Files (x86)\\Microsoft Visual Studio\\Shared\\Anaconda3_64\\lib\\site-packages\\tensorflow\\python\\framework\\dtypes.py:525: FutureWarning: Passing (type, 1) or '1type' as a synonym of type is deprecated; in a future version of numpy, it will be understood as (type, (1,)) / '(1,)type'.\n",
      "  np_resource = np.dtype([(\"resource\", np.ubyte, 1)])\n",
      "C:\\Program Files (x86)\\Microsoft Visual Studio\\Shared\\Anaconda3_64\\lib\\site-packages\\tensorboard\\compat\\tensorflow_stub\\dtypes.py:541: FutureWarning: Passing (type, 1) or '1type' as a synonym of type is deprecated; in a future version of numpy, it will be understood as (type, (1,)) / '(1,)type'.\n",
      "  _np_qint8 = np.dtype([(\"qint8\", np.int8, 1)])\n",
      "C:\\Program Files (x86)\\Microsoft Visual Studio\\Shared\\Anaconda3_64\\lib\\site-packages\\tensorboard\\compat\\tensorflow_stub\\dtypes.py:542: FutureWarning: Passing (type, 1) or '1type' as a synonym of type is deprecated; in a future version of numpy, it will be understood as (type, (1,)) / '(1,)type'.\n",
      "  _np_quint8 = np.dtype([(\"quint8\", np.uint8, 1)])\n",
      "C:\\Program Files (x86)\\Microsoft Visual Studio\\Shared\\Anaconda3_64\\lib\\site-packages\\tensorboard\\compat\\tensorflow_stub\\dtypes.py:543: FutureWarning: Passing (type, 1) or '1type' as a synonym of type is deprecated; in a future version of numpy, it will be understood as (type, (1,)) / '(1,)type'.\n",
      "  _np_qint16 = np.dtype([(\"qint16\", np.int16, 1)])\n",
      "C:\\Program Files (x86)\\Microsoft Visual Studio\\Shared\\Anaconda3_64\\lib\\site-packages\\tensorboard\\compat\\tensorflow_stub\\dtypes.py:544: FutureWarning: Passing (type, 1) or '1type' as a synonym of type is deprecated; in a future version of numpy, it will be understood as (type, (1,)) / '(1,)type'.\n",
      "  _np_quint16 = np.dtype([(\"quint16\", np.uint16, 1)])\n",
      "C:\\Program Files (x86)\\Microsoft Visual Studio\\Shared\\Anaconda3_64\\lib\\site-packages\\tensorboard\\compat\\tensorflow_stub\\dtypes.py:545: FutureWarning: Passing (type, 1) or '1type' as a synonym of type is deprecated; in a future version of numpy, it will be understood as (type, (1,)) / '(1,)type'.\n",
      "  _np_qint32 = np.dtype([(\"qint32\", np.int32, 1)])\n",
      "C:\\Program Files (x86)\\Microsoft Visual Studio\\Shared\\Anaconda3_64\\lib\\site-packages\\tensorboard\\compat\\tensorflow_stub\\dtypes.py:550: FutureWarning: Passing (type, 1) or '1type' as a synonym of type is deprecated; in a future version of numpy, it will be understood as (type, (1,)) / '(1,)type'.\n",
      "  np_resource = np.dtype([(\"resource\", np.ubyte, 1)])\n"
     ]
    }
   ],
   "source": [
    "\n",
    "from tensorflow.keras.preprocessing.text import Tokenizer\n",
    "from tensorflow.keras.preprocessing.sequence import pad_sequences\n",
    "from tensorflow.keras.utils import to_categorical\n",
    "from sklearn.model_selection import train_test_split\n",
    "\n",
    "max_words = 4000\n",
    "\n",
    "vocab = Tokenizer(num_words=max_words, oov_token='OOV')\n",
    "vocab.fit_on_texts(sentence_list)\n",
    "\n",
    "tag = Tokenizer()\n",
    "tag.fit_on_texts(tag_list)"
   ]
  },
  {
   "cell_type": "code",
   "execution_count": 8,
   "metadata": {},
   "outputs": [
    {
     "name": "stdout",
     "output_type": "stream",
     "text": [
      "4000 10\n"
     ]
    }
   ],
   "source": [
    "vocab_size = max_words\n",
    "tag_size = len(tag.word_index) + 1\n",
    "print(vocab_size, tag_size)"
   ]
  },
  {
   "cell_type": "code",
   "execution_count": 9,
   "metadata": {},
   "outputs": [],
   "source": [
    "X_train = vocab.texts_to_sequences(sentence_list)\n",
    "y_train = tag.texts_to_sequences(tag_list)"
   ]
  },
  {
   "cell_type": "code",
   "execution_count": 10,
   "metadata": {},
   "outputs": [
    {
     "data": {
      "text/plain": [
       "[989, 1, 205, 629, 7, 3939, 216, 1, 3]"
      ]
     },
     "execution_count": 10,
     "metadata": {},
     "output_type": "execute_result"
    }
   ],
   "source": [
    "X_train[0]\n"
   ]
  },
  {
   "cell_type": "code",
   "execution_count": 11,
   "metadata": {},
   "outputs": [
    {
     "data": {
      "text/plain": [
       "[4, 1, 7, 1, 1, 1, 7, 1, 1]"
      ]
     },
     "execution_count": 11,
     "metadata": {},
     "output_type": "execute_result"
    }
   ],
   "source": [
    "y_train[0]"
   ]
  },
  {
   "cell_type": "code",
   "execution_count": 12,
   "metadata": {},
   "outputs": [],
   "source": [
    "index2word = vocab.index_word\n",
    "index2ner = tag.index_word"
   ]
  },
  {
   "cell_type": "code",
   "execution_count": 13,
   "metadata": {},
   "outputs": [
    {
     "data": {
      "text/plain": [
       "{1: 'o',\n",
       " 2: 'b-loc',\n",
       " 3: 'b-per',\n",
       " 4: 'b-org',\n",
       " 5: 'i-per',\n",
       " 6: 'i-org',\n",
       " 7: 'b-misc',\n",
       " 8: 'i-loc',\n",
       " 9: 'i-misc'}"
      ]
     },
     "execution_count": 13,
     "metadata": {},
     "output_type": "execute_result"
    }
   ],
   "source": [
    "index2ner"
   ]
  },
  {
   "cell_type": "code",
   "execution_count": 14,
   "metadata": {},
   "outputs": [],
   "source": [
    "ex_decoded = []\n",
    "for index in X_train[0] : \n",
    "    ex_decoded.append(index2word[index])"
   ]
  },
  {
   "cell_type": "code",
   "execution_count": 15,
   "metadata": {},
   "outputs": [
    {
     "data": {
      "text/plain": [
       "['eu', 'rejects', 'german', 'call', 'to', 'boycott', 'british', 'lamb', '.']"
      ]
     },
     "execution_count": 15,
     "metadata": {},
     "output_type": "execute_result"
    }
   ],
   "source": [
    "sentence_list[0]"
   ]
  },
  {
   "cell_type": "code",
   "execution_count": 16,
   "metadata": {},
   "outputs": [
    {
     "data": {
      "text/plain": [
       "['eu', 'OOV', 'german', 'call', 'to', 'boycott', 'british', 'OOV', '.']"
      ]
     },
     "execution_count": 16,
     "metadata": {},
     "output_type": "execute_result"
    }
   ],
   "source": [
    "ex_decoded"
   ]
  },
  {
   "cell_type": "code",
   "execution_count": 17,
   "metadata": {},
   "outputs": [],
   "source": [
    "max_len = 70\n",
    "X_train = pad_sequences(X_train, padding='post', maxlen=max_len)\n",
    "y_train = pad_sequences(y_train, padding='post', maxlen=max_len)"
   ]
  },
  {
   "cell_type": "code",
   "execution_count": 18,
   "metadata": {},
   "outputs": [],
   "source": [
    "X_train, X_test, y_train, y_test = train_test_split(X_train, y_train, test_size=.2, random_state=42)"
   ]
  },
  {
   "cell_type": "code",
   "execution_count": 19,
   "metadata": {},
   "outputs": [],
   "source": [
    "y_train = to_categorical(y_train, num_classes=tag_size)\n",
    "y_test = to_categorical(y_test, num_classes=tag_size)"
   ]
  },
  {
   "cell_type": "code",
   "execution_count": 20,
   "metadata": {},
   "outputs": [
    {
     "name": "stdout",
     "output_type": "stream",
     "text": [
      "WARNING:tensorflow:From C:\\Program Files (x86)\\Microsoft Visual Studio\\Shared\\Anaconda3_64\\lib\\site-packages\\tensorflow\\python\\keras\\initializers.py:119: calling RandomUniform.__init__ (from tensorflow.python.ops.init_ops) with dtype is deprecated and will be removed in a future version.\n",
      "Instructions for updating:\n",
      "Call initializer instance with the dtype argument instead of passing it to the constructor\n",
      "WARNING:tensorflow:From C:\\Program Files (x86)\\Microsoft Visual Studio\\Shared\\Anaconda3_64\\lib\\site-packages\\tensorflow\\python\\ops\\init_ops.py:1251: calling VarianceScaling.__init__ (from tensorflow.python.ops.init_ops) with dtype is deprecated and will be removed in a future version.\n",
      "Instructions for updating:\n",
      "Call initializer instance with the dtype argument instead of passing it to the constructor\n",
      "WARNING:tensorflow:From C:\\Program Files (x86)\\Microsoft Visual Studio\\Shared\\Anaconda3_64\\lib\\site-packages\\tensorflow\\python\\keras\\backend.py:3794: add_dispatch_support.<locals>.wrapper (from tensorflow.python.ops.array_ops) is deprecated and will be removed in a future version.\n",
      "Instructions for updating:\n",
      "Use tf.where in 2.0, which has the same broadcast rule as np.where\n"
     ]
    }
   ],
   "source": [
    "from tensorflow.keras.models import Sequential\n",
    "from tensorflow.keras.layers import Dense, Embedding, LSTM, Bidirectional, TimeDistributed\n",
    "from tensorflow.keras.optimizers import Adam\n",
    "\n",
    "model = Sequential()\n",
    "model.add(Embedding(input_dim=vocab_size, output_dim=128, input_length=max_len, mask_zero=True))\n",
    "model.add(LSTM(units=500, return_sequences=True, recurrent_dropout=0.2, dropout=0.2))\n",
    "model.add(TimeDistributed(Dense(tag_size, activation='softmax')))\n",
    "model.compile(loss='categorical_crossentropy', optimizer=Adam(0.001), metrics=['accuracy'])"
   ]
  },
  {
   "cell_type": "code",
   "execution_count": 21,
   "metadata": {},
   "outputs": [
    {
     "name": "stdout",
     "output_type": "stream",
     "text": [
      "Model: \"sequential\"\n",
      "_________________________________________________________________\n",
      "Layer (type)                 Output Shape              Param #   \n",
      "=================================================================\n",
      "embedding (Embedding)        (None, 70, 128)           512000    \n",
      "_________________________________________________________________\n",
      "lstm (LSTM)                  (None, 70, 500)           1258000   \n",
      "_________________________________________________________________\n",
      "time_distributed (TimeDistri (None, 70, 10)            5010      \n",
      "=================================================================\n",
      "Total params: 1,775,010\n",
      "Trainable params: 1,775,010\n",
      "Non-trainable params: 0\n",
      "_________________________________________________________________\n"
     ]
    }
   ],
   "source": [
    "model.summary()"
   ]
  },
  {
   "cell_type": "code",
   "execution_count": null,
   "metadata": {},
   "outputs": [
    {
     "name": "stdout",
     "output_type": "stream",
     "text": [
      "Train on 11232 samples, validate on 2809 samples\n",
      "Epoch 1/4\n",
      " 6656/11232 [================>.............] - ETA: 1:58 - loss: 0.2197 - acc: 0.8174"
     ]
    }
   ],
   "source": [
    "history = model.fit(X_train, y_train, batch_size=128, epochs=4,  validation_data=(X_test, y_test))"
   ]
  },
  {
   "cell_type": "code",
   "execution_count": 31,
   "metadata": {},
   "outputs": [
    {
     "name": "stdout",
     "output_type": "stream",
     "text": [
      "2809/2809 [==============================] - 28s 10ms/sample - loss: 0.0577 - acc: 0.9217\n"
     ]
    },
    {
     "data": {
      "text/plain": [
       "0.9217083"
      ]
     },
     "execution_count": 31,
     "metadata": {},
     "output_type": "execute_result"
    }
   ],
   "source": [
    "model.evaluate(X_test, y_test)[1]"
   ]
  },
  {
   "cell_type": "code",
   "execution_count": 10,
   "metadata": {},
   "outputs": [],
   "source": [
    "def result_index(i):\n",
    "    y_pred = model.predict(np.array([X_test[i]]))\n",
    "    y_pred = np.argmax(y_pred,axis=-1)\n",
    "    true = np.argmax(y_test[i],-1)\n",
    "    \n",
    "    print(\"{:15}|{:5}|{}\".format('word','actual','predicted'))\n",
    "    print(35*\"-\")\n",
    "    \n",
    "    for w,t,pred in zip(X_test[i], true, y_pred[0]):\n",
    "        if w!= 0:\n",
    "            print(\"{:17}:{:7}{}\".format(index2word[w], index2ner[t].upper(),index2ner[pred].upper()))"
   ]
  },
  {
   "cell_type": "code",
   "execution_count": 37,
   "metadata": {},
   "outputs": [
    {
     "name": "stdout",
     "output_type": "stream",
     "text": [
      "word           |actual|predicted\n",
      "-----------------------------------\n",
      "ties             :O      O\n",
      "between          :O      O\n",
      "the              :O      O\n",
      "two              :O      O\n",
      "neighbours       :O      O\n",
      ",                :O      O\n",
      "OOV              :O      O\n",
      "also             :O      O\n",
      "over             :O      O\n",
      "a                :O      O\n",
      "military         :O      O\n",
      "accord           :O      O\n",
      "between          :O      O\n",
      "turkey           :B-LOC  B-LOC\n",
      "and              :O      O\n",
      "israel           :B-LOC  B-LOC\n",
      "which            :O      O\n",
      "drew             :O      O\n",
      "strong           :O      O\n",
      "iranian          :B-MISC B-MISC\n",
      "OOV              :O      O\n",
      ",                :O      O\n",
      "have             :O      O\n",
      "improved         :O      O\n",
      "since            :O      O\n",
      "islamist         :B-MISC B-MISC\n",
      "OOV              :B-PER  O\n",
      "erbakan          :I-PER  B-PER\n",
      "took             :O      O\n",
      "over             :O      O\n",
      "as               :O      O\n",
      "turkish          :B-MISC B-MISC\n",
      "prime            :O      O\n",
      "minister         :O      O\n",
      "in               :O      O\n",
      "june             :O      O\n",
      ".                :O      O\n"
     ]
    }
   ],
   "source": [
    "### input a result from the index to see what the actual and predicted values were.\n",
    "result_index(1)"
   ]
  },
  {
   "cell_type": "code",
   "execution_count": null,
   "metadata": {},
   "outputs": [],
   "source": []
  }
 ],
 "metadata": {
  "kernelspec": {
   "display_name": "Python 3",
   "language": "python",
   "name": "python3"
  },
  "language_info": {
   "codemirror_mode": {
    "name": "ipython",
    "version": 3
   },
   "file_extension": ".py",
   "mimetype": "text/x-python",
   "name": "python",
   "nbconvert_exporter": "python",
   "pygments_lexer": "ipython3",
   "version": "3.6.10"
  }
 },
 "nbformat": 4,
 "nbformat_minor": 2
}
