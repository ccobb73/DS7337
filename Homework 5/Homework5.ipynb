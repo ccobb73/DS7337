{
 "cells": [
  {
   "cell_type": "markdown",
   "metadata": {},
   "source": [
    "## 1.\tCompile a list of static links (permalinks) to individual user movie reviews from one particular website. This will be your working dataset for this assignment, as well as for assignments 7 and 8, which together will make up your semester project. \n",
    "\n",
    "- a.\tIt does not matter if you use a crawler or if you manually collect the links, but you will need at least 100 movie review links. Note that, as of this writing, the robots.txt file of IMDB.com allows the crawling of user reviews.\n",
    "- b.\tEach link should be to a web page that has only one user review of only one movie, e.g., the user review permalinks on the IMDB site.\n",
    "- c.\tChoose reviews of movies that are all in the same genre, e.g., sci-fi, mystery, romance, superhero, etc.  \n",
    "- d.\tMake sure your collection includes reviews of several movies in your chosen genre and that it includes a mix of negative and positive reviews.  \n",
    "\n",
    "\n",
    "\n",
    "\n"
   ]
  },
  {
   "cell_type": "code",
   "execution_count": 1,
   "metadata": {},
   "outputs": [],
   "source": [
    "import requests\n",
    "import re\n",
    "from bs4 import BeautifulSoup\n",
    "from urllib import request\n",
    "\n",
    "# Links to reviews of movies\n",
    "avengers_url = \"https://www.imdb.com/title/tt4154796/reviews?ref_=tt_ql_3\"\n",
    "matrix_url = 'https://www.imdb.com/title/tt0133093/reviews?ref_=tt_ql_3'\n",
    "guardians_url = 'https://www.imdb.com/title/tt2015381/reviews?ref_=tt_ql_3'\n",
    "madMax_url = 'https://www.imdb.com/title/tt1392190/reviews?ref_=tt_ql_3'\n",
    "\n",
    "def find_permalinks(url):\n",
    "    page = request.urlopen(url)\n",
    "    soup = BeautifulSoup(page, 'html.parser')\n",
    "    review_containers = soup.find_all('div', class_ = 'review-container')\n",
    "    for review in review_containers:\n",
    "        permalinks.append(\"https://www.imdb.com\" + review.find('a', attrs={'href': re.compile(\"/review\")}).get('href'))\n",
    "        \n",
    "# Permalinks to reviews\n",
    "permalinks = []\n",
    "\n",
    "find_permalinks(avengers_url)\n",
    "find_permalinks(matrix_url)\n",
    "find_permalinks(guardians_url)\n",
    "find_permalinks(madMax_url)"
   ]
  },
  {
   "cell_type": "markdown",
   "metadata": {},
   "source": [
    "## 2.\tExtract noun phrase (NP) chunks from your reviews using the following procedure:\n",
    "- a.\tIn Python, use BeautifulSoup to grab the main review text from each link.  \n",
    "- b.\tNext run each review text through a tokenizer, and then try to NP-chunk it with a shallow parser. \n",
    "- c.\tYou probably will have too many unknown words, owing to proper names of characters, actors, and so on that are not in your working dictionary. Make sure the main names that are relevant to the movies in your collection of reviews are added to the working lexicon, and then run the NP chunker again.\n"
   ]
  },
  {
   "cell_type": "code",
   "execution_count": 2,
   "metadata": {},
   "outputs": [],
   "source": [
    "reviews = []\n",
    "\n",
    "\n",
    "for link in permalinks:\n",
    "    page = request.urlopen(link)\n",
    "    soup = BeautifulSoup(page, 'html.parser')\n",
    "    review_containers = soup.find_all('div', class_ = 'review-container')\n",
    "    for review in review_containers:\n",
    "        reviews.append(review.find(class_ = 'text show-more__control').text)"
   ]
  },
  {
   "cell_type": "code",
   "execution_count": 37,
   "metadata": {},
   "outputs": [
    {
     "data": {
      "text/plain": [
       "100"
      ]
     },
     "execution_count": 37,
     "metadata": {},
     "output_type": "execute_result"
    }
   ],
   "source": [
    "import nltk\n",
    "\n",
    "reviews_tokenized = [nltk.word_tokenize(review) for review in reviews]   \n",
    "len(reviews_tokenized)"
   ]
  },
  {
   "cell_type": "code",
   "execution_count": 8,
   "metadata": {},
   "outputs": [],
   "source": [
    "import spacy\n",
    "import en_core_web_sm\n",
    "\n",
    "eng_mod = en_core_web_sm.load()\n",
    "nlp = spacy.load(\"en_core_web_sm\")"
   ]
  },
  {
   "cell_type": "code",
   "execution_count": 40,
   "metadata": {},
   "outputs": [],
   "source": [
    "review_docs = [nlp(review) for review in reviews]\n",
    "\n",
    "review_chunks = []\n",
    "\n",
    "i = 0\n",
    "while i < len(review_docs):\n",
    "    review_chunks.append([chunk.text for chunk in review_docs[i].noun_chunks])\n",
    "    i += 1"
   ]
  },
  {
   "cell_type": "code",
   "execution_count": 49,
   "metadata": {},
   "outputs": [
    {
     "name": "stdout",
     "output_type": "stream",
     "text": [
      "(S\n",
      "  I/PRP\n",
      "  my first reaction/VBP\n",
      "  the cinema/IN\n",
      "  it/PRP\n",
      "  You/PRP\n",
      "  so much fan service/VBP\n",
      "  this movie/IN\n",
      "  I/PRP\n",
      "  I/PRP\n",
      "  one CA/VBP\n",
      "  It/PRP\n",
      "  Toy Story/NNP\n",
      "  enlightened Buzz/VBZ\n",
      "  Buzz banter/NNP\n",
      "  I/PRP\n",
      "  Clever Hulk/NNP\n",
      "  times/NNS\n",
      "  the references/NNS\n",
      "  past movies/NNS\n",
      "  Cap/NNP\n",
      "  Mjollnir/NNP\n",
      "  The deaths/NNP\n",
      "  (NP this movie/NN)\n",
      "  I/PRP\n",
      "  the more balanced reviews/VBP\n",
      "  it/PRP\n",
      "  so much time/JJ\n",
      "  Hawkeye/NNP\n",
      "  (NP anyone/NN)\n",
      "  him/PRP\n",
      "  Black Widow/NNP\n",
      "  (NP a surprising touch/NN)\n",
      "  I/PRP\n",
      "  many others/NNS\n",
      "  an emotional reaction/VBP\n",
      "  Banner's relationship/NNP\n",
      "  her/PRP$\n",
      "  (NP not Hawkeye/JJ no one/NN)\n",
      "  him/PRP\n",
      "  an actor/VBP\n",
      "  it/PRP\n",
      "  The real problem/NNP\n",
      "  End Game/NNP\n",
      "  (NP the time travel/NN)\n",
      "  I/PRP\n",
      "  any movie franchise/VBP\n",
      "  (NP time travel/JJ how much grief/NN)\n",
      "  it/PRP\n",
      "  they/PRP\n",
      "  (NP everything/NN)\n",
      "  (NP their hilarious conversation/NN)\n",
      "  movies/NNS\n",
      "  the end/VBP\n",
      "  just too many questions/NNS\n",
      "  the end/VBP\n",
      "  the day/IN\n",
      "  they/PRP\n",
      "  it/PRP\n",
      "  the Ancient One/VBD\n",
      "  they/PRP\n",
      "  the past/VBP\n",
      "  they/PRP\n",
      "  another timeline/VBP\n",
      "  Tony Stark/NNP\n",
      "  his fingers/NNS\n",
      "  Thanos/VBP\n",
      "  what/WP\n",
      "  (NP that original timeline/NN)\n",
      "  he/PRP\n",
      "  Thanos/VBZ\n",
      "  (NP everyone/NN)\n",
      "  he/PRP\n",
      "  Gamora/NNP\n",
      "  who/WP\n",
      "  2014 Quill/CD\n",
      "  Gamora/NNP\n",
      "  What/WP\n",
      "  the entire 2014 GOTG franchise/VBD\n",
      "  (NP that universe/NN)\n",
      "  Captain America/NNP\n",
      "  (NP time/NN)\n",
      "  he/PRP\n",
      "  (NP history/NN)\n",
      "  some way/RB\n",
      "  (NP another timeline/JJ everyone else's timeline/NN)\n",
      "  (NP the present/NN)\n",
      "  Stark/NNP\n",
      "  Cap/NNP\n",
      "  the same lake/VB\n",
      "  (NP everyone/NN)\n",
      "  way too many questions/NNS\n",
      "  new timelines/VBP\n",
      "  (NP the Loki TV show/NN)\n",
      "  I/PRP\n",
      "  it/PRP\n",
      "  they/PRP\n",
      "  time travel/VBP\n",
      "  (NP any movie/JJ stuff/NN)\n",
      "  it/PRP\n",
      "  it/PRP\n",
      "  their own universe/VBZ\n",
      "  me/PRP\n",
      "  (NP impossibly strong Thanos/JJ an infinity gauntlet/NN)\n",
      "  (NP the IG/NN)\n",
      "  he/PRP\n",
      "  Thor's Stormbringer/NNP\n",
      "  the IG/VBD\n",
      "  Thor/NNP\n",
      "  Stormbringer/NNP\n",
      "  Mjollnir/NNP\n",
      "  Iron Man/NNP\n",
      "  Cap/NNP\n",
      "  I/PRP\n",
      "  Marvel/NNP\n",
      "  a serious mistake/VBP\n",
      "  Captain Marvel/NNP\n",
      "  she/PRP\n",
      "  a convenient deus/VBD\n",
      "  ex machina/JJ\n",
      "  all her abilities/NNS\n",
      "  she/PRP\n",
      "  Thanos/NNPS\n",
      "  Pfft/NNP\n",
      "  She/PRP\n",
      "  Thanos/VBD\n",
      "  his fingers/NNS\n",
      "  Infinity War/NNP\n",
      "  Cap/NNP\n",
      "  (NP his hand/NN)\n",
      "  Bizarre parallels/NNP\n",
      "  it/PRP\n",
      "  I/PRP\n",
      "  too many plot inconsistencies/NNS\n",
      "  End Game/NNP\n",
      "  better ways/VBZ\n",
      "  (NP the infinity/NN)\n",
      "  I/PRP\n",
      "  (NP someone/NN)\n",
      "  time travel/VBD\n",
      "  (NP the best way/NN)\n",
      "  it/PRP)\n"
     ]
    }
   ],
   "source": [
    "pos = nltk.pos_tag(review_chunks[1])\n",
    "grammar = \"NP: {<DT>?<JJ>*<NN>}\"\n",
    "cp = nltk.RegexpParser(grammar)\n",
    "result = cp.parse(pos)\n",
    "print (result)"
   ]
  },
  {
   "cell_type": "markdown",
   "metadata": {},
   "source": [
    "#### I could get the chunks out but had a hard time parsing them since everything i did gave errors"
   ]
  },
  {
   "cell_type": "markdown",
   "metadata": {},
   "source": [
    "## 3.\tOutput all the chunks in a single list for each review, and submit that output for this assignment. Also submit a brief written summary of what you did (describe your selection of genre, your source of reviews, how many you collected, and by what means)."
   ]
  },
  {
   "cell_type": "code",
   "execution_count": 14,
   "metadata": {},
   "outputs": [
    {
     "data": {
      "text/plain": [
       "100"
      ]
     },
     "execution_count": 14,
     "metadata": {},
     "output_type": "execute_result"
    }
   ],
   "source": [
    "len(review_chunks)"
   ]
  },
  {
   "cell_type": "code",
   "execution_count": 35,
   "metadata": {},
   "outputs": [
    {
     "name": "stdout",
     "output_type": "stream",
     "text": [
      "Pretty printing has been turned OFF\n"
     ]
    },
    {
     "data": {
      "text/plain": [
       "['no way', 'I', 'my emotions', 'this movie', 'I', 'I', 'Marvel movie', 'any movie', 'I', 'my emotion', 'so many tears', 'joy', 'loss', 'Amazing story', 'the acting', 'outstanding, epic action', 'great CGI', 'the best storytelling', 'a superhero movie', 'amazing performance', 'I', 'it', 'sadness', 'pure joy', 'excitement', 'I', 'this moment', 'my whole life', \"'s\", 'it', 'awhile movies', 'such a big enthusiasm', 'It', 'such an experience', 'you', 'it', 'People', 'crying', 'a state emotion', 'It', 'it', 'a finger snapping', 'Thanos', 'I', 'I', 'Quantum Realm', 'it', '5 seconds', 'you', 'the story', 'you', 'it', \"a 'superhero movie\", 'it', 'me', 'It', 'just a superhero movie', 'it', 'some characters', 'you', 'you', 'them', 'this movie', 'Captain Marvel', 'I', 'her', 'her own movie', 'Endgame', 'they', 'she', 'I', 'her', 'Marvel', 'her line', 'I', 'her line', 'I', 'You', 'you', 'me', 'Hawkeye', 'Avengers', 'I', 'Hawkeye', 'he', \"just a 'guy\", 'an arrow', 'any scene', 'he', 'character', 'we', 'what', 'we', 'I', 'it', 'some people', 'Thor', 'him', 'a joke', 'I', 'this movie', 'us', 'a message', 'what', \"'shape\", 'you', 'you', 'a hero', 'the world', 'I', 'what', 'they', 'Thor', 'that man', 'he', 'the shot', 'Thanos', 'Infinity War', 'he', 'him', 'it', 'his people', 'Asgard', 'he', 'God', 'Thunder', 'god sake', 'he', 'his stomach', 'thunder', 'his abs', \"I'm\", 'Captain America', 'he', 'his dance', 'Peggy', 'I', 'we', 'the fight', 'Captain America', 'his own self', 'Tony', 'his father', 'my heart', 'we', \"the 'real-life' Jarvis\", 'I', 'the whole superhero', 'it', 'so EPIC', 'The whole person', 'theater', 'me', 'a goosebumps', 'me', 'speechless!This movie', 'absolute perfection', 'The ending', 'this movie', 'we', 'the characters', 'It', 'a perfect balance', 'all these past 10 years', 'I', 'This movie', 'I', 'it', 'the Russo Brothers', 'us', 'a Marvel Movie marathon', 'Endgame', 'this movie', 'everything', 'what', 'it', 'it', 'yourself']"
      ]
     },
     "execution_count": 35,
     "metadata": {},
     "output_type": "execute_result"
    }
   ],
   "source": [
    "%pprint\n",
    "review_chunks[0]"
   ]
  },
  {
   "cell_type": "code",
   "execution_count": null,
   "metadata": {},
   "outputs": [],
   "source": []
  }
 ],
 "metadata": {
  "kernelspec": {
   "display_name": "Python 3",
   "language": "python",
   "name": "python3"
  },
  "language_info": {
   "codemirror_mode": {
    "name": "ipython",
    "version": 3
   },
   "file_extension": ".py",
   "mimetype": "text/x-python",
   "name": "python",
   "nbconvert_exporter": "python",
   "pygments_lexer": "ipython3",
   "version": "3.7.6"
  }
 },
 "nbformat": 4,
 "nbformat_minor": 4
}
