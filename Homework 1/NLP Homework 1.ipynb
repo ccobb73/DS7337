{
 "cells": [
  {
   "cell_type": "markdown",
   "metadata": {},
   "source": [
    "### 1.\tInstall Python (if you don’t have it already), and install NLTK.  "
   ]
  },
  {
   "cell_type": "code",
   "execution_count": 1,
   "metadata": {},
   "outputs": [
    {
     "name": "stdout",
     "output_type": "stream",
     "text": [
      "*** Introductory Examples for the NLTK Book ***\n",
      "Loading text1, ..., text9 and sent1, ..., sent9\n",
      "Type the name of the text or sentence to view it.\n",
      "Type: 'texts()' or 'sents()' to list the materials.\n",
      "text1: Moby Dick by Herman Melville 1851\n",
      "text2: Sense and Sensibility by Jane Austen 1811\n",
      "text3: The Book of Genesis\n",
      "text4: Inaugural Address Corpus\n",
      "text5: Chat Corpus\n",
      "text6: Monty Python and the Holy Grail\n",
      "text7: Wall Street Journal\n",
      "text8: Personals Corpus\n",
      "text9: The Man Who Was Thursday by G . K . Chesterton 1908\n"
     ]
    }
   ],
   "source": [
    "import sys\n",
    "import nltk\n",
    "\n",
    "from nltk.book import *\n",
    "from nltk.corpus import words\n",
    "import re\n",
    "import time\n",
    "import requests"
   ]
  },
  {
   "cell_type": "markdown",
   "metadata": {},
   "source": [
    "## 2.\tFollow the instructions in chapter 1 of Bird-Klein for implementing a “lexical diversity” scoring routine."
   ]
  },
  {
   "cell_type": "code",
   "execution_count": 22,
   "metadata": {},
   "outputs": [
    {
     "name": "stdout",
     "output_type": "stream",
     "text": [
      "\\*\\*\\* START OF THIS PROJECT GUTENBERG EBOOK.*\\*\\*\\*\n"
     ]
    }
   ],
   "source": [
    "start_line = '\\*\\*\\* START OF THIS PROJECT GUTENBERG EBOOK.*\\*\\*\\*'\n",
    "end_line = '\\*\\*\\* END OF THIS PROJECT GUTENBERG EBOOK.*\\*\\*\\*'\n",
    "print(start_line)"
   ]
  },
  {
   "cell_type": "markdown",
   "metadata": {},
   "source": [
    "## 3. Go to http://www.gutenberg.org/wiki/Children%27s_Instructional_Books_(Bookshelf), and obtain three texts (of different grade levels) from the “Graded Readers” section. Report the lexical diversity score of each. Explain whether the result was surprising."
   ]
  },
  {
   "cell_type": "code",
   "execution_count": 23,
   "metadata": {},
   "outputs": [],
   "source": [
    "sixth = open('The_Ontario_Readers_Sixth_Book.txt', encoding=\"utf8\").read()\n",
    "third = open('The_Ontario_Readers_Third_Book.txt', encoding=\"utf8\").read()\n",
    "high = open('The_Ontario_Readers_The_High_School_Reader_1886.txt', encoding=\"utf8\").read()"
   ]
  },
  {
   "cell_type": "code",
   "execution_count": 24,
   "metadata": {},
   "outputs": [],
   "source": [
    "import re\n",
    "\n",
    "# start line and end line for text\n",
    "def remove_meta(text):\n",
    "    return re.split(end_line, re.split(start_line, text)[1])[0]\n",
    "\n",
    "from nltk.tokenize import word_tokenize\n",
    "\n",
    "def vocab_count(text):\n",
    "    if text is str:\n",
    "        text = split_text(remove_meta(text))\n",
    "    return len(set(text))\n",
    "def split_text(text):\n",
    "    return re.split(\"[^a-z']+\")\n",
    "#count the distinct tokens for each text\n",
    "def tokens(text):\n",
    "    text = nltk.word_tokenize(remove_meta(text))\n",
    "    text = [word for word in text if word.isalpha()]\n",
    "    return text "
   ]
  },
  {
   "cell_type": "code",
   "execution_count": 25,
   "metadata": {},
   "outputs": [],
   "source": [
    "def vocab_score(text):\n",
    "    return len(set(tokens(text))) / len(text)"
   ]
  },
  {
   "cell_type": "code",
   "execution_count": 26,
   "metadata": {},
   "outputs": [
    {
     "data": {
      "text/plain": [
       "103"
      ]
     },
     "execution_count": 26,
     "metadata": {},
     "output_type": "execute_result"
    }
   ],
   "source": [
    "vocab_count(high)"
   ]
  },
  {
   "cell_type": "code",
   "execution_count": 27,
   "metadata": {},
   "outputs": [],
   "source": [
    "def lexical_diversity(text):\n",
    "    return len(set(tokens(text))) / len(tokens(text))"
   ]
  },
  {
   "cell_type": "code",
   "execution_count": 28,
   "metadata": {},
   "outputs": [
    {
     "data": {
      "text/plain": [
       "0.12042005086553449"
      ]
     },
     "execution_count": 28,
     "metadata": {},
     "output_type": "execute_result"
    }
   ],
   "source": [
    "lexical_diversity(high)"
   ]
  },
  {
   "cell_type": "code",
   "execution_count": 29,
   "metadata": {},
   "outputs": [
    {
     "data": {
      "text/plain": [
       "0.1155387010380776"
      ]
     },
     "execution_count": 29,
     "metadata": {},
     "output_type": "execute_result"
    }
   ],
   "source": [
    "lexical_diversity(sixth)"
   ]
  },
  {
   "cell_type": "code",
   "execution_count": 30,
   "metadata": {},
   "outputs": [
    {
     "data": {
      "text/plain": [
       "0.13364178587727996"
      ]
     },
     "execution_count": 30,
     "metadata": {},
     "output_type": "execute_result"
    }
   ],
   "source": [
    "lexical_diversity(third)"
   ]
  },
  {
   "cell_type": "markdown",
   "metadata": {},
   "source": [
    "###\tThe following is the lexical diversity scores for each of the books I checked.\n",
    "*   The Ontario Sixth Reader\n",
    "\n",
    ">* \tlexical diversity = .1155 % \n",
    "\n",
    "*\tThe Ontario Third Reader\n",
    "\n",
    ">*\tlexical diversity = .1336 %\n",
    "\n",
    "*\tThe Ontario High School Reader\n",
    "\n",
    ">*\tlexical diversity = .1204 %\n",
    "\n",
    "*\tYou would think the High School Reader would have the highest lexical score but it was the 3rd graders. The actual lexical diversity results suggest there is no correlation between lexical diversity and the grader for each work since they are all very close in score. It is surprising the 3rd grade has the highest lexical score since you think they wouldn't be as diverse in their words."
   ]
  },
  {
   "cell_type": "markdown",
   "metadata": {},
   "source": [
    "## 4.\tAlso compare the vocabulary size of the same three texts. Explain whether the result was surprising.  "
   ]
  },
  {
   "cell_type": "code",
   "execution_count": 31,
   "metadata": {},
   "outputs": [],
   "source": [
    "def distinct_tokens(text):\n",
    "    return len(set(tokens(text)))\n",
    "# make function to count vocab_size\n",
    "def vocab_size(text):\n",
    "    return len(tokens(text))"
   ]
  },
  {
   "cell_type": "code",
   "execution_count": 37,
   "metadata": {},
   "outputs": [
    {
     "data": {
      "text/plain": [
       "135539"
      ]
     },
     "execution_count": 37,
     "metadata": {},
     "output_type": "execute_result"
    }
   ],
   "source": [
    "vocab_size(sixth)"
   ]
  },
  {
   "cell_type": "code",
   "execution_count": 33,
   "metadata": {},
   "outputs": [
    {
     "data": {
      "text/plain": [
       "63543"
      ]
     },
     "execution_count": 33,
     "metadata": {},
     "output_type": "execute_result"
    }
   ],
   "source": [
    "vocab_size(third)"
   ]
  },
  {
   "cell_type": "code",
   "execution_count": 34,
   "metadata": {},
   "outputs": [
    {
     "data": {
      "text/plain": [
       "121890"
      ]
     },
     "execution_count": 34,
     "metadata": {},
     "output_type": "execute_result"
    }
   ],
   "source": [
    "vocab_size(high)"
   ]
  },
  {
   "cell_type": "code",
   "execution_count": 38,
   "metadata": {},
   "outputs": [],
   "source": [
    "\n",
    "\n",
    "def vocab_score(text):\n",
    "    return vocab_size(text) / len(text)"
   ]
  },
  {
   "cell_type": "code",
   "execution_count": 40,
   "metadata": {},
   "outputs": [
    {
     "data": {
      "text/plain": [
       "0.16450145520658108"
      ]
     },
     "execution_count": 40,
     "metadata": {},
     "output_type": "execute_result"
    }
   ],
   "source": [
    "vocab_score(sixth)"
   ]
  },
  {
   "cell_type": "markdown",
   "metadata": {},
   "source": [
    "###### The results above are not suprising since a child's vocabulary size increases as they progress with grade levels. The third had the lowest vocab size but had the highest lexical score. It is not surprising that the higher grades had a bigger vocab size but it doesn't correlate to the lexical scores.  "
   ]
  },
  {
   "cell_type": "markdown",
   "metadata": {},
   "source": [
    "## 5.\tWrite a paragraph arguing whether vocabulary size and lexical diversity in combination could be a better measure of text difficulty (or reading level) than either measure is by itself."
   ]
  },
  {
   "cell_type": "markdown",
   "metadata": {},
   "source": [
    "###### If a text has a higher index of lexical diversity it is likely to be more complex, more advanced and more difficult (if other things are equal). The main problem is that some measures of lexical diversity do not take account fully of differences in text length. In other words, if they are used on texts of different lengths they can give misleading results so maybe you would want to use a combination of both of them. "
   ]
  }
 ],
 "metadata": {
  "kernelspec": {
   "display_name": "Python 3",
   "language": "python",
   "name": "python3"
  },
  "language_info": {
   "codemirror_mode": {
    "name": "ipython",
    "version": 3
   },
   "file_extension": ".py",
   "mimetype": "text/x-python",
   "name": "python",
   "nbconvert_exporter": "python",
   "pygments_lexer": "ipython3",
   "version": "3.6.10"
  }
 },
 "nbformat": 4,
 "nbformat_minor": 2
}
