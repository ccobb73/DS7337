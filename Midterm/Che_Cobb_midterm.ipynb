{
 "cells": [
  {
   "cell_type": "markdown",
   "metadata": {},
   "source": [
    "## I.\tShort Essay Responses \n",
    "##   1.\tSelect one career or industry that makes use of applied NLP.\n",
    "   \n",
    "#####   a.\tExplain generally how that field or career utilizes NLP.\n",
    "- With a little or non-existent credit history, banks in the developing countries can now examine the creditworthiness of clients by holding NLP. Clients who have not used credit prior are aware of the use of smartphones, internet browsing and leave a lot of digital footprints.  An analysis of geological data, social media activity, browsing behaviour are used by NLP algorithms to understand their habits, peer networks and the potential of their relationships. An inspection of thousands of client-related parameters takes place by the software. A credit score is initiated which forecasts the customer’s future activity. Consent is required to access the customer info. The transmission of data to third parties is not possible.\n",
    "\n",
    "#### b.\t Explain at least some methods of NLP that are very likely to be used in the career or industry you selected.\n",
    "- Document Search Engine and Fraud Detection are some of the methods of NLP used in creditworthiness assessment.  NLP provides a boost to the Documentation Process by altering the level of the information received from the structured and unstructured data. The world of finance is susceptible to fraud since the core of every entry and record is jotted down in the form of text. Natural Language Processing makes use of Machine Learning to detect misinterpreted information and swindling. The Machine Learning Prototype used by Natural Language Processing is trained in such a way that it assesses and point out frauds.\n",
    "\n",
    "#### c.\tGive at least one specific example of a use case for NLP within the chosen field and explain how the problem or situation is (or could be) improved by applying NLP.\n",
    "- NLP technologies aid banks in the creation of advanced customer-oriented products. With the evolvement of chatbots, better interaction can be carried out with the banks. They incorporate advanced analytics to offer financial perception to consumers including warnings on overdrawing or recommendations that will allow them to save money. It helps in optimizing the efficiency of the outputs. The chatbot can be trained by applying the fundamental principles of NLP to improve customer satisfaction by finding the best possible response to queries of the customers. The sentiments can also be evaluated using NLPs by deriving the main keywords and expressions of the text.\n"
   ]
  },
  {
   "cell_type": "markdown",
   "metadata": {},
   "source": [
    "## 2.\tChoose one of the “trade-offs” in NLP that was covered in the asynchronous materials for this course.\n",
    "##### a.\tExplain the trade-off in general terms. Define the two choices.\n",
    "Text Analysis:\n",
    "- Under this, both topic modeling and sentiment analysis on a given conversation are carried out. Under topic modeling, the sentences of a blog conversation are grouped into some topical clusters and are labeled by designating a topic descriptor or a key phrase.  The two choices are defined under topic segmentation and labeling models used for conversations of an asynchronous phase. They find their successful evaluation of email and blog datasets. The Fragment Quotation Graph (FQG) collects the reply relations between text fragments, which are composed of the actual body of the comments. They prove out to be a better depiction of the conversation than the primitive reply-to structure. The best unregulated graph-based ranking models that generate portraying key phrases for each topical part are used to figure out the topic labels. This is done by joining the productive parts from initial sentences of the segment and the fine-grain conversational structure which corresponds to the FQG.\n",
    "\n",
    "##### b.\tExplain the benefits and weaknesses of each side of the trade-off.  Include at least one benefit and one weakness of each.\n",
    "- Text analysis comes with many advantages. One such advantage is Scalability that helps in covering up large sets of data and figures out the most relevant texts ina very efficient, quick and feasible way. Analyzing and processing the large sets of data generated daily in bulk in a full-scale business is a tedious task. Scalability helps in optimizing internal processes, discovers trends and helps in improving the overall productivity of the companies. It also allows us to discovers the demands of the customers through useful insights. Its disadvantage includes the lack of measurement between the vector representations of different words. This is because the words are orthogonal to each other and fail to counter the importance of different words.  The location of the word is often ignored by text analysis trade-off in NLP.\n",
    "\n",
    "##### c.\tDescribe a work-situation that would make one of the choices in the trade-off much better, in terms of practical outcomes for you and your stakeholders on a project.\n",
    "- Topic segmentation is one of the choices in Text Analysis which involves uncovering productive segments from text data. The evaluation of the content can be performed to determine its significance in the desired text. Warranty Analysis and Product or Service Reviews can yield out fruitful practical outcomes by interpreting texts from useful dealer service professionals, call center logs, surveys, claims, and bulk orders. User sentiments and local issues can also be understood by an examination of customer reviews of products or services.\n"
   ]
  },
  {
   "cell_type": "markdown",
   "metadata": {},
   "source": [
    "## II.\tNLP Networks"
   ]
  },
  {
   "cell_type": "markdown",
   "metadata": {},
   "source": [
    "#### 1. Label each block and step by input/sequence step.  Compute the dimensions of the weight for all steps.  All inputs must be labeled by dimension.  Include your original word ENCODING (notice not vector!) as input.  You may omit bias"
   ]
  },
  {
   "attachments": {
    "layers.png": {
     "image/png": "[encoded data removed]"
    }
   },
   "cell_type": "markdown",
   "metadata": {},
   "source": [
    "![layers.png](attachment:layers.png)"
   ]
  },
  {
   "cell_type": "markdown",
   "metadata": {},
   "source": [
    "#### 2.\tWrite the initial vector form of the input sequence using only 1s and 0s"
   ]
  },
  {
   "cell_type": "code",
   "execution_count": 3,
   "metadata": {},
   "outputs": [
    {
     "data": {
      "text/plain": [
       "{'<<PAD>>': 0,\n",
       " 'the': 1,\n",
       " 'quick': 2,\n",
       " 'brown': 3,\n",
       " 'fox': 4,\n",
       " 'jumped': 5,\n",
       " 'over': 6,\n",
       " 'fence': 7,\n",
       " 'under': 8,\n",
       " 'car': 9,\n",
       " 'did': 10}"
      ]
     },
     "execution_count": 3,
     "metadata": {},
     "output_type": "execute_result"
    }
   ],
   "source": [
    "vocab = {'<<PAD>>': 0, 'the': 1, 'quick': 2, 'brown': 3, 'fox': 4, 'jumped': 5, 'over': 6, 'fence': 7, 'under': 8, 'car' : 9, 'did': 10}\n",
    "vocab"
   ]
  },
  {
   "cell_type": "code",
   "execution_count": 8,
   "metadata": {},
   "outputs": [
    {
     "data": {
      "text/plain": [
       "array([[1., 0., 0., 0., 0., 0., 0., 0., 0., 0., 0.],\n",
       "       [1., 0., 0., 0., 0., 0., 0., 0., 0., 0., 0.],\n",
       "       [0., 1., 0., 0., 0., 0., 0., 0., 0., 0., 0.],\n",
       "       [0., 0., 0., 0., 0., 0., 0., 0., 0., 1., 0.],\n",
       "       [0., 0., 0., 0., 0., 1., 0., 0., 0., 0., 0.],\n",
       "       [0., 0., 0., 0., 0., 0., 1., 0., 0., 0., 0.],\n",
       "       [0., 1., 0., 0., 0., 0., 0., 0., 0., 0., 0.],\n",
       "       [0., 0., 0., 0., 0., 0., 0., 1., 0., 0., 0.]])"
      ]
     },
     "execution_count": 8,
     "metadata": {},
     "output_type": "execute_result"
    }
   ],
   "source": [
    "import numpy as np\n",
    "\n",
    "# pad pad the car jumped over the fence\n",
    "sentences = np.array([0, 0, 1, 9, 5, 6, 1, 7])\n",
    "\n",
    "def onHot(sequences, dimension=len(vocab)):\n",
    "    results = np.zeros((len(sequences), dimension))\n",
    "    for i, sequence in enumerate(sequences):\n",
    "      results[i, sequence] = 1\n",
    "    return results\n",
    "\n",
    "onHot(sentences)"
   ]
  },
  {
   "cell_type": "markdown",
   "metadata": {},
   "source": [
    "####  3.\tFind the average Glove Word Vector of your the input sequence (Spacy uses Glove vectors!)"
   ]
  },
  {
   "cell_type": "code",
   "execution_count": 1,
   "metadata": {},
   "outputs": [],
   "source": [
    "import spacy\n",
    "nlp = spacy.load(\"en_core_web_md\")"
   ]
  },
  {
   "cell_type": "code",
   "execution_count": 2,
   "metadata": {},
   "outputs": [],
   "source": [
    "text =nlp(\"the car jumped over the fence\")"
   ]
  },
  {
   "cell_type": "code",
   "execution_count": 3,
   "metadata": {},
   "outputs": [
    {
     "data": {
      "text/plain": [
       "array([ 1.02246672e-01,  6.65950105e-02, -1.49527833e-01,  3.49901654e-02,\n",
       "        2.13985667e-01, -7.65089318e-02, -2.45101675e-01,  7.83283338e-02,\n",
       "        2.09699962e-02,  2.41605020e+00, -1.05761170e-01,  5.89891970e-02,\n",
       "        3.98833267e-02, -6.72252774e-02, -2.43400812e-01, -1.21773286e-02,\n",
       "       -7.25516751e-02,  1.03658164e+00, -2.32895855e-02, -1.55521646e-01,\n",
       "        2.29424983e-02, -8.47426429e-02,  2.09339336e-01,  1.32689821e-02,\n",
       "        1.60996635e-02, -1.53346330e-01, -8.59160051e-02, -1.78890824e-01,\n",
       "       -9.34920013e-02, -2.61886623e-02,  4.54970933e-02,  2.78918356e-01,\n",
       "       -1.12586327e-01,  2.80501485e-01,  1.23955004e-01, -1.41709670e-01,\n",
       "       -4.83516753e-02,  1.34987980e-02,  1.60396993e-02, -3.77281681e-02,\n",
       "        2.11798310e-01,  4.15756665e-02, -5.41546196e-02, -6.71449974e-02,\n",
       "        8.97116885e-02, -4.67299968e-02, -2.15548679e-01, -3.80335063e-01,\n",
       "        6.24183305e-02,  1.80273965e-01, -4.30923253e-02, -6.58916831e-02,\n",
       "       -1.00524008e-01,  1.68676674e-01, -1.23110332e-01,  3.10916658e-02,\n",
       "        4.90240008e-02, -6.93003386e-02, -5.66300005e-02, -6.21146746e-02,\n",
       "        1.06594689e-01,  1.92563340e-01, -2.24631652e-02,  2.88225979e-01,\n",
       "        6.67833313e-02,  3.77099998e-02, -3.47989984e-02, -1.93191484e-01,\n",
       "        1.17071338e-01,  1.61466673e-01, -1.18047833e-01, -1.62384976e-02,\n",
       "        3.14163327e-01,  2.70906657e-01, -4.48926575e-02, -4.22549956e-02,\n",
       "        1.23116501e-01, -2.96609342e-01, -1.39579833e-01,  8.14026669e-02,\n",
       "        1.10720165e-01,  3.54271650e-01,  1.22986631e-02, -3.63661647e-02,\n",
       "        1.21970713e-01,  1.98808834e-01,  7.96278417e-02,  2.64610112e-01,\n",
       "        1.20267332e-01,  1.64494321e-01, -6.51488379e-02, -3.08013353e-02,\n",
       "        6.57665059e-02, -1.18793339e-01, -1.21375002e-01,  3.01500154e-03,\n",
       "        4.15491648e-02,  1.44447833e-01,  3.20313334e-01, -2.33143326e-02,\n",
       "        1.13832675e-01,  5.34916669e-02, -2.11709991e-01, -1.60306171e-01,\n",
       "        3.01343352e-02, -6.81866646e-01,  1.71360001e-01,  3.60621698e-02,\n",
       "       -1.91083346e-02, -8.79466757e-02,  9.86851528e-02, -9.48226675e-02,\n",
       "        3.48386019e-01, -1.45902663e-01,  2.00064316e-01,  6.77258372e-02,\n",
       "       -1.20133413e-02,  6.13599978e-02,  1.19159997e-01,  3.63789983e-02,\n",
       "        2.38830000e-02, -1.61527157e-01, -1.02036051e-01, -3.16459656e-01,\n",
       "       -2.49000326e-01, -2.51293313e-02, -5.27970009e-02, -1.01913333e-01,\n",
       "       -4.52106707e-02,  4.09161337e-02, -2.05126658e-01,  1.94621012e-01,\n",
       "       -3.07096660e-01,  6.72188327e-02,  6.60986602e-02, -1.50133327e-01,\n",
       "        2.80357990e-02,  2.23969996e-01,  2.87990030e-02, -9.97816697e-02,\n",
       "       -1.43598330e+00, -5.37484922e-02,  1.56250343e-01,  9.46183223e-03,\n",
       "        1.09009333e-01, -3.36200255e-03, -4.48800027e-02, -3.68850045e-02,\n",
       "        2.72751659e-01,  1.41264990e-01, -2.70038337e-01, -7.61556700e-02,\n",
       "        1.36434823e-01, -8.98864940e-02, -8.02138373e-02, -2.03154027e-01,\n",
       "        1.20266654e-01,  3.84640008e-01,  2.84733325e-02,  6.68138266e-02,\n",
       "       -1.45843834e-01,  8.97001699e-02, -1.28053337e-01, -1.00520827e-01,\n",
       "       -4.73484956e-02, -1.14998333e-01,  6.95599988e-02, -3.95846665e-02,\n",
       "        1.30314782e-01,  1.50368169e-01,  1.25569835e-01,  5.13156652e-02,\n",
       "       -1.71585009e-01, -7.21875057e-02, -2.73713320e-01, -3.97153310e-02,\n",
       "       -5.06145023e-02,  2.36549005e-01,  2.91716699e-02, -1.71874329e-01,\n",
       "        1.51221335e-01, -1.54766232e-01, -2.89241672e-01, -1.96124002e-01,\n",
       "       -5.10866335e-03, -1.69838175e-01, -2.17521656e-02, -1.67769507e-01,\n",
       "        3.57716642e-02, -4.23661657e-02,  2.57701337e-01,  7.14846626e-02,\n",
       "       -7.01555312e-02,  1.91963330e-01, -1.32479936e-01,  1.03625663e-01,\n",
       "        1.56697720e-01, -2.53173355e-02, -2.86182493e-01,  7.02083623e-03,\n",
       "       -4.01316732e-02, -2.23066639e-02, -2.45521680e-01,  6.72115162e-02,\n",
       "        2.54228026e-01,  5.75384684e-02,  1.05767667e-01, -1.16228998e-01,\n",
       "        3.61099951e-02, -1.28049990e-02, -5.97448312e-02,  1.28031671e-02,\n",
       "        3.52631658e-02,  6.83058724e-02,  8.96621570e-02,  1.96179509e-01,\n",
       "       -2.67955840e-01,  2.30717853e-01, -7.25523308e-02, -1.13187671e-01,\n",
       "        2.49129981e-02, -1.05219662e-01, -1.22388333e-01, -1.36076659e-02,\n",
       "       -2.43960977e-01, -3.24010491e-01,  6.23329252e-04,  1.39413312e-01,\n",
       "       -2.04223339e-02,  7.26416633e-02, -9.96336341e-04,  7.41533339e-02,\n",
       "       -9.62996706e-02, -3.63566726e-02, -6.97279871e-02, -7.91983381e-02,\n",
       "        9.13333297e-02,  1.53121501e-01,  1.03963353e-02,  7.81561658e-02,\n",
       "       -8.12756717e-02, -3.50351669e-02,  4.68028337e-02,  1.41970322e-01,\n",
       "       -5.43585867e-02, -3.55706662e-01,  1.19163997e-01, -1.45466819e-01,\n",
       "       -8.59850049e-02, -4.72178273e-02, -1.90006986e-01, -6.41948357e-02,\n",
       "        1.46570489e-01,  4.02814709e-02,  5.15481681e-02,  3.15691680e-01,\n",
       "        1.67254999e-01,  1.07822001e-01,  1.07833361e-02, -1.48848668e-01,\n",
       "        2.58671850e-01,  5.72443306e-02,  8.61733258e-02, -3.16029310e-01,\n",
       "        2.91208327e-01, -2.62440503e-01, -7.26199970e-02, -1.19893990e-01,\n",
       "       -4.26665060e-02, -1.96394488e-01,  2.56954014e-01,  7.53486678e-02,\n",
       "        4.77932766e-03, -1.09933324e-01,  8.91481638e-02, -3.66953202e-02,\n",
       "        7.48030022e-02,  1.68176994e-01,  2.46623307e-02, -3.43943350e-02,\n",
       "       -7.04811588e-02,  3.51395011e-02, -1.66051671e-01,  1.31367818e-01,\n",
       "        6.32465035e-02, -4.31626625e-02, -4.79533756e-03,  1.37216842e-03,\n",
       "       -4.09579948e-02, -5.88233359e-02, -5.01784980e-01, -1.69103339e-01,\n",
       "        2.81081647e-01, -1.91766188e-01, -6.20938353e-02, -9.28726569e-02,\n",
       "        1.14023328e-01,  1.77116826e-01,  9.68199968e-02,  6.52955025e-02],\n",
       "      dtype=float32)"
      ]
     },
     "execution_count": 3,
     "metadata": {},
     "output_type": "execute_result"
    }
   ],
   "source": [
    "text.vector"
   ]
  },
  {
   "cell_type": "markdown",
   "metadata": {},
   "source": [
    "#### 4.\tFind the nearest word (in the above dictionary) to answer #3\n",
    "- I would say 'the' since it is has the lowest number?"
   ]
  },
  {
   "cell_type": "code",
   "execution_count": 6,
   "metadata": {},
   "outputs": [
    {
     "data": {
      "text/plain": [
       "[('the', 0.24667346477508545),\n",
       " ('quick', 0.532218724489212),\n",
       " ('brown', 0.716812789440155),\n",
       " ('fox', 0.689554899930954),\n",
       " ('jumped', 0.3494679927825928),\n",
       " ('over', 0.25146275758743286),\n",
       " ('fence', 0.3551366925239563),\n",
       " ('under', 0.508454829454422),\n",
       " ('car', 0.3474304676055908),\n",
       " ('did', 0.4202675223350525)]"
      ]
     },
     "execution_count": 6,
     "metadata": {},
     "output_type": "execute_result"
    }
   ],
   "source": [
    "from scipy.spatial import distance\n",
    "\n",
    "vocab = {'the': 0, 'quick': 1, 'brown': 2, 'fox': 3, 'jumped': 4, 'over': 5, 'fence': 6, 'under': 7, 'car' : 8, 'did': 9}\n",
    "\n",
    "list(zip(vocab, [distance.cosine(text.vector, nlp(word).vector) for word, idx in vocab.items()]))"
   ]
  },
  {
   "cell_type": "markdown",
   "metadata": {},
   "source": [
    "##### 5.\tWhat is the difference between the W(weight) matrix of the first GRU sequence at time/sequence 0 and at time/sequence 5.  How do you know this?\n",
    "- Backpropagation hasnt begun yet since it is in its first sequence,  so it doesn't matter the difference in weight. Gradients are values used to update a neural networks weights after each sequence. Having a gradient that is too small means the model won’t update its weights effectively, whereas extremely large gradients cause the model to be unstable"
   ]
  },
  {
   "cell_type": "markdown",
   "metadata": {},
   "source": [
    "##### 6.\tWhat is missing in the above code—something important is not determined and based on that, there are some minor adjustments or additions that need to be made  Make a logical determination of what that missing piece of info should be based on the info given here and what additions or adjustments are necessary.\n",
    "- The addition of padding was the most obvious to me."
   ]
  },
  {
   "cell_type": "code",
   "execution_count": null,
   "metadata": {},
   "outputs": [],
   "source": []
  }
 ],
 "metadata": {
  "kernelspec": {
   "display_name": "Python 3",
   "language": "python",
   "name": "python3"
  },
  "language_info": {
   "codemirror_mode": {
    "name": "ipython",
    "version": 3
   },
   "file_extension": ".py",
   "mimetype": "text/x-python",
   "name": "python",
   "nbconvert_exporter": "python",
   "pygments_lexer": "ipython3",
   "version": "3.7.6"
  }
 },
 "nbformat": 4,
 "nbformat_minor": 2
}
